{
 "metadata": {
  "name": "",
  "signature": "sha256:cc0c28b8e0704bfe0da36b7c07f11e84df7e372e8bc9efe834da7ee4659846ea"
 },
 "nbformat": 3,
 "nbformat_minor": 0,
 "worksheets": [
  {
   "cells": [
    {
     "cell_type": "heading",
     "level": 1,
     "metadata": {},
     "source": [
      "Metodos Matem\u00e1ticos\n",
      "Manuel Ariza Fuentes\n",
      "201125554\n",
      "Tarea 4"
     ]
    },
    {
     "cell_type": "code",
     "collapsed": false,
     "input": [
      "%pylab inline\n",
      "import numpy as np\n",
      "#permite operacioens matematicas\n",
      "import os \n",
      "import shutil \n",
      "# Permiten interactuar con los archivos\n",
      "from matplotlib import pyplot as plt\n",
      "#Permite graficar\n"
     ],
     "language": "python",
     "metadata": {},
     "outputs": []
    },
    {
     "cell_type": "code",
     "collapsed": false,
     "input": [
      "lista = os.listdir(\"Brahe-3141-f\") #Crea una lista con los archivos de la carpeta Brahe-3141-f\n",
      "\n",
      "\n",
      "def ruido(archivo):    #Funcion que va a eliminar los archivos corruptos\n",
      "    file = open('Brahe-3141-f/'+archivo, 'r') #Va a leer los archivos dentro de la carpeta Brahe\n",
      "    t, posy= loadtxt(file, unpack=True)\n",
      "    ruido = 0     \n",
      "\n",
      "#archivos que no son corruptos disminuyen sus valores antes y despu\u00e9s de su valor m\u00e1ximo\n",
      "\n",
      "    for i in range(size(t)):     \n",
      "        if (posy[i+1]>posy[i]:\n",
      "            maximo = i+1\n",
      "            \n",
      "    for i in range(size(t)):       \n",
      "        if((i<maximo) & (posy[i+1]<posy[i]) or (i>maximo) & (posy[i+1]>posy[i])):\n",
      "                ruido = 1\n",
      "            \n",
      "    return ruido"
     ],
     "language": "python",
     "metadata": {},
     "outputs": [],
     "prompt_number": 8
    },
    {
     "cell_type": "code",
     "collapsed": false,
     "input": [
      "for i in range(0,size(lista)):  #va a mover los archivos corruptos a otro directorio\n",
      "    archivo = lista[i]\n",
      "    if(ruido(lista[i])==1):\n",
      "        shutil.move('Brahe-3141-f/'+archivo,'ruido/'+archivo)"
     ],
     "language": "python",
     "metadata": {},
     "outputs": []
    },
    {
     "cell_type": "code",
     "collapsed": false,
     "input": [
      "def multiplicacion(X,Y):\n",
      "\n",
      "#Funcion para multiplicar dos matrices, devuelve matriz final\n",
      "    \n",
      "    if (dim(X) == dim(Y)):   \n",
      "        valor = 0\n",
      "        Z = [[0 for i in range(len(X))] for i in range(len(X))]\n",
      "                                                \n",
      "        for i in range(len(X)):\n",
      "    \n",
      "            for j in range(len(X)):\n",
      "                valor += X[i][j]*Y[j][i]\n",
      "            Z[i][j] = valor\n",
      "    \n",
      "        return C\n",
      "    \n",
      "    def traspuesta(X):            #Para sacar la traspuesta de una matriz\n",
      "    V = [[0 for i in range(len(X))] for i in range(len(X))]\n",
      "    for i in range(len(X)):\n",
      "        for j in range(len(X)):\n",
      "            V[i][j] = X[i][j]\n",
      "\n",
      "    for i in range(len(X)):\n",
      "        for j in range(len(X)):\n",
      "            U[i][j] = V[j][i]\n",
      "        \n",
      "    return U\n",
      "\n"
     ],
     "language": "python",
     "metadata": {},
     "outputs": []
    },
    {
     "cell_type": "code",
     "collapsed": false,
     "input": [
      "def MinC(X):              #Metodo de minimos cuadrados, crea dos Matrices L, U, una triangular superior y la otra inferior\n",
      "    L = [[0 for i in range(len(X))] for i in range(len(X))] \n",
      "    U = [[0 for i in range(len(X))] for i in range(len(X))] for i in range(len(X)):\n",
      "        L[i][i] = 1 for j in range(len(X)): \n",
      "            U[j][i] = 0 #Crea una matriz diagonal de unos, el resto ceros  \n",
      "for i in range(len(X)):                #Matriz U\n",
      "        for j in range(i,len(X)):\n",
      "            U[i][j]=X[i][j]\n",
      "            \n",
      "            if(i>=0):\n",
      "                for k in range(0,i):\n",
      "                    U[i][j]=(U[i][j])-(L[i][k]*U[k][j])\n",
      "                    \n",
      "for j in range(i+1,len(X)):             #Matriz L\n",
      "            L[j][i]=X[j][i]\n",
      "            \n",
      "            if(i>=0):\n",
      "                for k in range(0,i):\n",
      "                    L[j,i] = (L[j,i])-(L[j,k]*U[k,i])\n",
      "                \n",
      "                if(math.fabs(U[i][i])>0):\n",
      "                    L[j][i] = (L[j][i])/(U[i][i])\n",
      "    \n",
      "    return L,U                   "
     ],
     "language": "python",
     "metadata": {},
     "outputs": [],
     "prompt_number": 1
    },
    {
     "cell_type": "code",
     "collapsed": false,
     "input": [
      "#Para obtener los angulos de los archivos\n",
      "theta=[]\n",
      "phi=[]\n",
      "for i in range(size(lista)):\n",
      "    theta.append(0)\n",
      "    phi.append(0)\n",
      "        \n",
      "for i in range(size(lista)):\n",
      "    lista = lista[i]\n",
      "#Obtiene los angulos, que estan dentro de palabras en el titulo del archivo\n",
      "    primero = lista.find('theta_')\n",
      "    medio = lista.find('_phi_')\n",
      "    tope = lista.find('.dat')\n",
      "\n",
      "    theta[i] = lista[primero:medio]\n",
      "    theta[i] = int(theta[i])\n",
      "    phi[i] = lista[medio:tope]\n",
      "    phi[i] = int(phi[i])"
     ],
     "language": "python",
     "metadata": {},
     "outputs": [],
     "prompt_number": 9
    },
    {
     "cell_type": "code",
     "collapsed": false,
     "input": [
      "#Con la formula de matrices Ax=B, se volveria GT*(GX)=GT*B. G es la matriz de los valores de Y en los archivos, (segunda columna),\n",
      "# y descomponiendo en minimos cuadrados, L*(U*X)=GT*B\n",
      "\n",
      "#Creando matriz G\n",
      "\n",
      "def matrizG(archivo)\n",
      "\n",
      "    file = open('Brahe-3141-f(copy)/'+archivo, 'r') \n",
      "    t, posy= loadtxt(file, unpack=True) \n",
      "    G = [[0 for i in range(3] for i in range(size(posy)]\n",
      "                                             \n",
      "        for j in range(2):\n",
      "            if(j==0):\n",
      "                for i in range(size(posy))\n",
      "                G[i][j]=1\n",
      "                \n",
      "            if(j==1):\n",
      "                for i in range(size(posy))\n",
      "                G[i][j]=t[i]\n",
      "                \n",
      "            if(j==2):\n",
      "                for i in range(size(posy))\n",
      "                G[i][j]=(t[i]**2)/2\n",
      "                \n",
      "    return G\n",
      "    "
     ],
     "language": "python",
     "metadata": {},
     "outputs": []
    },
    {
     "cell_type": "code",
     "collapsed": false,
     "input": [
      "#G traspuesta:\n",
      "def matrizGT(archivo)\n",
      "        file = open('Brahe-3141-f(copy)/'+archivo, 'r') \n",
      "        t, posy= loadtxt(file, unpack=True)\n",
      "\n",
      "                                                  \n",
      "        GT=traspuesta(matrizG(archivo))\n",
      "        \n",
      "    return GT"
     ],
     "language": "python",
     "metadata": {},
     "outputs": []
    },
    {
     "cell_type": "code",
     "collapsed": false,
     "input": [
      "#MAtriz A seria GT*G, que luego se le aplicara minimos cuadrados\n",
      "def matrizA(archivo)\n",
      "        file = open('Brahe-3141-f(copy)/'+archivo, 'r') \n",
      "        t, posy= loadtxt(file, unpack=True)\n",
      "        A=multiplicacion(matrizGT(archivo),matrizG(archivo))\n",
      "    \n",
      "    return A"
     ],
     "language": "python",
     "metadata": {},
     "outputs": []
    },
    {
     "cell_type": "code",
     "collapsed": false,
     "input": [
      "def vectorY(archivo)\n",
      "        file = open('Brahe-3141-f(copy)/'+archivo, 'r') \n",
      "        t, posy= loadtxt(file, unpack=True)\n",
      "        Y=np.linspace[posy]\n",
      "        YT=traspuesta(Y)\n",
      "    return YT"
     ],
     "language": "python",
     "metadata": {},
     "outputs": []
    },
    {
     "cell_type": "code",
     "collapsed": false,
     "input": [
      "#MATRiz GT*B, seria multplicacion entre GT y B, siendo B la segunda columna de los archivos en forma de vector, es decir\n",
      "# toca hacerlo una matriz de 1 fila y luego se traspone\n",
      "def matrizB(archivo)\n",
      "        file = open('Brahe-3141-f(copy)/'+archivo, 'r') \n",
      "        t, posy= loadtxt(file, unpack=True)\n",
      "        B=multiplicacion(matrizGT(archivo),vectorY(archivo))\n",
      "    return B"
     ],
     "language": "python",
     "metadata": {},
     "outputs": []
    },
    {
     "cell_type": "code",
     "collapsed": false,
     "input": [
      "def final(archivo):\n",
      "    #obtiene los valores finales de y0,v0 y g\n",
      "    f=matrizB(archivo)\n",
      "    L,U = MinC(matrizA(archivo))\n",
      "    \n",
      "    Y = []\n",
      "    for i in range(3):\n",
      "       Y.append(0)\n",
      "    \n",
      "    Y[0] = f[0][0]/L[0][0]\n",
      "    Y[1] = f[1][1]/L[1][1]\n",
      "    Y[2] = f[2][2]/L[2][2]\n",
      "    \n",
      "    return Y"
     ],
     "language": "python",
     "metadata": {},
     "outputs": []
    },
    {
     "cell_type": "code",
     "collapsed": false,
     "input": [
      " file = open('Brahe-3141-f(copy)/'+archivo, 'r') \n",
      "        t, posy= loadtxt(file, unpack=True)\n",
      "        \n",
      "        #lista con los valores de posicion inicial en y, velocidad inicial en y, y gravedad\n",
      "\n",
      "y0 = []\n",
      "v0 = []\n",
      "g = []\n",
      "g_promedio = 0\n",
      "for i in range(size(lista):\n",
      "    y0.append(0)\n",
      "    v0.append(0)\n",
      "    g.append(0)\n",
      "    \n",
      "        archivo = lista[i]\n",
      "        Y = final(archivo)\n",
      "        y0[i]= Y[0]\n",
      "        v0[i]= Y[1]\n",
      "        g[i]=Y[2]\n",
      "        g_promedio += g[i]/lista(size)"
     ],
     "language": "python",
     "metadata": {},
     "outputs": []
    },
    {
     "cell_type": "code",
     "collapsed": false,
     "input": [
      "#Punto 2\n",
      "#grafica del valor de la gravedad promedio vs el angulo polar\n",
      "plt.plot(theta,g)"
     ],
     "language": "python",
     "metadata": {},
     "outputs": []
    },
    {
     "cell_type": "code",
     "collapsed": false,
     "input": [
      "#Punto 3, parametro f vs angulo polar\n",
      "F=[]\n",
      "F.append(0)\n",
      "for i in range(size(lista)):\n",
      "    F[i]=1-g[i]/g_promedio[i]\n",
      "    \n",
      "plt.plot(theta,F)"
     ],
     "language": "python",
     "metadata": {},
     "outputs": []
    }
   ],
   "metadata": {}
  }
 ]
}